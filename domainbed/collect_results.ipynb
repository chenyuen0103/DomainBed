{
 "cells": [
  {
   "cell_type": "code",
   "execution_count": 27,
   "id": "initial_id",
   "metadata": {
    "collapsed": true,
    "ExecuteTime": {
     "end_time": "2024-04-30T04:17:03.751991Z",
     "start_time": "2024-04-30T04:17:03.748543Z"
    }
   },
   "outputs": [],
   "source": [
    "import collections\n",
    "import functools\n",
    "import glob\n",
    "import pickle\n",
    "import itertools\n",
    "import json\n",
    "import os\n",
    "import random\n",
    "import sys\n",
    "import numpy as np\n",
    "import tqdm\n",
    "import pandas as pd\n",
    "import seaborn as sns\n",
    "import matplotlib.pyplot as plt\n",
    "\n",
    "# If domainbed is a custom module, you might need to adjust its imports or setup\n",
    "from domainbed import datasets\n",
    "from domainbed import algorithms\n",
    "from domainbed.lib import misc, reporting\n",
    "from domainbed import model_selection\n",
    "from domainbed.lib.query import Q\n",
    "import warnings\n"
   ]
  },
  {
   "cell_type": "code",
   "outputs": [],
   "source": [
    "def format_mean(data, latex):\n",
    "    \"\"\"Given a list of datapoints, return a string describing their mean and\n",
    "    standard error\"\"\"\n",
    "    if len(data) == 0:\n",
    "        return None, None, \"X\"\n",
    "    mean = 100 * np.mean(list(data))\n",
    "    err = 100 * np.std(list(data) / np.sqrt(len(data)))\n",
    "    if latex:\n",
    "        return mean, err, \"{:.1f} $\\\\pm$ {:.1f}\".format(mean, err)\n",
    "    else:\n",
    "        return mean, err, \"{:.1f} +/- {:.1f}\".format(mean, err)\n",
    "\n",
    "def print_table(table, header_text, row_labels, col_labels, colwidth=10,\n",
    "    latex=True):\n",
    "    \"\"\"Pretty-print a 2D array of data, optionally with row/col labels\"\"\"\n",
    "    print(\"\")\n",
    "\n",
    "    if latex:\n",
    "        num_cols = len(table[0])\n",
    "        print(\"\\\\begin{center}\")\n",
    "        print(\"\\\\adjustbox{max width=\\\\textwidth}{%\")\n",
    "        print(\"\\\\begin{tabular}{l\" + \"c\" * num_cols + \"}\")\n",
    "        print(\"\\\\toprule\")\n",
    "    else:\n",
    "        print(\"--------\", header_text)\n",
    "\n",
    "    for row, label in zip(table, row_labels):\n",
    "        row.insert(0, label)\n",
    "\n",
    "    if latex:\n",
    "        col_labels = [\"\\\\textbf{\" + str(col_label).replace(\"%\", \"\\\\%\") + \"}\"\n",
    "            for col_label in col_labels]\n",
    "    table.insert(0, col_labels)\n",
    "\n",
    "    for r, row in enumerate(table):\n",
    "        misc.print_row(row, colwidth=colwidth, latex=latex)\n",
    "        if latex and r == 0:\n",
    "            print(\"\\\\midrule\")\n",
    "    if latex:\n",
    "        print(\"\\\\bottomrule\")\n",
    "        print(\"\\\\end{tabular}}\")\n",
    "        print(\"\\\\end{center}\")\n",
    "\n",
    "def print_results_tables(records, selection_method, latex):\n",
    "    \"\"\"Given all records, print a results table for each dataset.\"\"\"\n",
    "    grouped_records = reporting.get_grouped_records(records).map(lambda group:\n",
    "        { **group, \"sweep_acc\": selection_method.sweep_acc(group[\"records\"]) }\n",
    "    ).filter(lambda g: g[\"sweep_acc\"] is not None)\n",
    "\n",
    "    # read algorithm names and sort (predefined order)\n",
    "    alg_names = Q(records).select(\"args.algorithm\").unique()\n",
    "    alg_names = ([n for n in algorithms.ALGORITHMS if n in alg_names] +\n",
    "        [n for n in alg_names if n not in algorithms.ALGORITHMS])\n",
    "\n",
    "    # read dataset names and sort (lexicographic order)\n",
    "    dataset_names = Q(records).select(\"args.dataset\").unique().sorted()\n",
    "    dataset_names = [d for d in datasets.DATASETS if d in dataset_names]\n",
    "\n",
    "    for dataset in dataset_names:\n",
    "        if latex:\n",
    "            print()\n",
    "            print(\"\\\\subsubsection{{{}}}\".format(dataset))\n",
    "        test_envs = range(datasets.num_environments(dataset))\n",
    "        # breakpoint()\n",
    "        table = [[None for _ in [*test_envs, \"Avg\"]] for _ in alg_names]\n",
    "        for i, algorithm in enumerate(alg_names):\n",
    "            means = []\n",
    "            for j, test_env in enumerate(test_envs):\n",
    "                trial_accs = (grouped_records\n",
    "                    .filter_equals(\n",
    "                        \"dataset, algorithm, test_env\",\n",
    "                        (dataset, algorithm, test_env)\n",
    "                    ).select(\"sweep_acc\"))\n",
    "                mean, err, table[i][j] = format_mean(trial_accs, latex)\n",
    "                means.append(mean)\n",
    "            if None in means:\n",
    "                table[i][-1] = \"X\"\n",
    "            else:\n",
    "                table[i][-1] = \"{:.1f}\".format(sum(means) / len(means))\n",
    "\n",
    "        col_labels = [\n",
    "            \"Algorithm\",\n",
    "            *datasets.get_dataset_class(dataset).ENVIRONMENTS,\n",
    "            \"Avg\"\n",
    "        ]\n",
    "        header_text = (f\"Dataset: {dataset}, \"\n",
    "            f\"model selection method: {selection_method.name}\")\n",
    "        print_table(table, header_text, alg_names, list(col_labels),\n",
    "            colwidth=20, latex=latex)\n",
    "\n",
    "    # Print an \"averages\" table\n",
    "    if latex:\n",
    "        print()\n",
    "        print(\"\\\\subsubsection{Averages}\")\n",
    "\n",
    "    table = [[None for _ in [*dataset_names, \"Avg\"]] for _ in alg_names]\n",
    "    for i, algorithm in enumerate(alg_names):\n",
    "        means = []\n",
    "        for j, dataset in enumerate(dataset_names):\n",
    "            trial_averages = (grouped_records\n",
    "                .filter_equals(\"algorithm, dataset\", (algorithm, dataset))\n",
    "                .group(\"trial_seed\")\n",
    "                .map(lambda trial_seed, group:\n",
    "                    group.select(\"sweep_acc\").mean()\n",
    "                )\n",
    "            )\n",
    "            mean, err, table[i][j] = format_mean(trial_averages, latex)\n",
    "            means.append(mean)\n",
    "        if None in means:\n",
    "            table[i][-1] = \"X\"\n",
    "        else:\n",
    "            table[i][-1] = \"{:.1f}\".format(sum(means) / len(means))\n",
    "\n",
    "    col_labels = [\"Algorithm\", *dataset_names, \"Avg\"]\n",
    "    header_text = f\"Averages, model selection method: {selection_method.name}\"\n",
    "    print_table(table, header_text, alg_names, col_labels, colwidth=25,\n",
    "        latex=latex)"
   ],
   "metadata": {
    "collapsed": false,
    "ExecuteTime": {
     "end_time": "2024-04-30T04:17:59.121850Z",
     "start_time": "2024-04-30T04:17:59.110567Z"
    }
   },
   "id": "73ca9d266f0c31a8",
   "execution_count": 37
  },
  {
   "cell_type": "code",
   "outputs": [],
   "source": [
    "input_dir = \"./results_resnet\"\n",
    "latex = False\n",
    "results_file = \"results.tex\" if latex else \"results.txt\""
   ],
   "metadata": {
    "collapsed": false,
    "ExecuteTime": {
     "end_time": "2024-04-30T04:17:59.471769Z",
     "start_time": "2024-04-30T04:17:59.464324Z"
    }
   },
   "id": "1ca2b30d73774666",
   "execution_count": 38
  },
  {
   "cell_type": "code",
   "outputs": [
    {
     "name": "stderr",
     "output_type": "stream",
     "text": [
      "                                                                                \r"
     ]
    },
    {
     "name": "stdout",
     "output_type": "stream",
     "text": [
      "\n",
      "-------- Dataset: VLCS, model selection method: training-domain validation set\n",
      "Algorithm             C                     L                     S                     V                     Avg                  \n",
      "HessianAlignment      83.3 +/- 4.6          64.2 +/- 1.2          59.7 +/- 1.2          76.4 +/- 0.6          70.9                 \n",
      "\n",
      "-------- Dataset: PACS, model selection method: training-domain validation set\n",
      "Algorithm             A                     C                     P                     S                     Avg                  \n",
      "HessianAlignment      84.1 +/- 1.2          69.3 +/- 2.3          96.1 +/- 0.5          78.2 +/- 0.6          81.9                 \n",
      "\n",
      "-------- Dataset: OfficeHome, model selection method: training-domain validation set\n",
      "Algorithm             A                     C                     P                     R                     Avg                  \n",
      "HessianAlignment      51.8 +/- 1.4          50.2 +/- 0.5          63.2 +/- 1.0          76.8 +/- 0.3          60.5                 \n",
      "\n",
      "-------- Dataset: TerraIncognita, model selection method: training-domain validation set\n",
      "Algorithm             L100                  L38                   L43                   L46                   Avg                  \n",
      "HessianAlignment      49.7 +/- 5.5          45.9 +/- 1.2          24.3 +/- 0.6          39.7 +/- 1.3          39.9                 \n",
      "\n",
      "-------- Dataset: DomainNet, model selection method: training-domain validation set\n",
      "Algorithm             clip                  info                  paint                 quick                 real                  sketch                Avg                  \n",
      "HessianAlignment      19.9 +/- 10.8         9.2 +/- 3.5           20.8 +/- 11.1         8.2 +/- 0.2           18.1 +/- 8.6          28.5 +/- 11.1         17.5                 \n",
      "\n",
      "-------- Averages, model selection method: training-domain validation set\n",
      "Algorithm                  VLCS                       PACS                       OfficeHome                 TerraIncognita             DomainNet                  Avg                       \n",
      "HessianAlignment           70.9 +/- 1.0               81.9 +/- 0.3               60.5 +/- 0.5               39.9 +/- 1.1               16.6 +/- 1.8               54.0                      \n"
     ]
    },
    {
     "ename": "AttributeError",
     "evalue": "'Q' object has no attribute 'shape'",
     "output_type": "error",
     "traceback": [
      "\u001B[0;31m---------------------------------------------------------------------------\u001B[0m",
      "\u001B[0;31mAttributeError\u001B[0m                            Traceback (most recent call last)",
      "Cell \u001B[0;32mIn[39], line 8\u001B[0m\n\u001B[1;32m      2\u001B[0m selection_methods \u001B[38;5;241m=\u001B[39m [\n\u001B[1;32m      3\u001B[0m     model_selection\u001B[38;5;241m.\u001B[39mIIDAccuracySelectionMethod,\n\u001B[1;32m      4\u001B[0m     model_selection\u001B[38;5;241m.\u001B[39mOracleSelectionMethod\n\u001B[1;32m      5\u001B[0m ]\n\u001B[1;32m      7\u001B[0m \u001B[38;5;28;01mfor\u001B[39;00m selection_method \u001B[38;5;129;01min\u001B[39;00m selection_methods:\n\u001B[0;32m----> 8\u001B[0m     \u001B[43mprint_results_tables\u001B[49m\u001B[43m(\u001B[49m\u001B[43mrecords\u001B[49m\u001B[43m,\u001B[49m\u001B[43m \u001B[49m\u001B[43mselection_method\u001B[49m\u001B[43m,\u001B[49m\u001B[43m \u001B[49m\u001B[43mlatex\u001B[49m\u001B[43m)\u001B[49m\n",
      "Cell \u001B[0;32mIn[37], line 118\u001B[0m, in \u001B[0;36mprint_results_tables\u001B[0;34m(records, selection_method, latex)\u001B[0m\n\u001B[1;32m    115\u001B[0m header_text \u001B[38;5;241m=\u001B[39m \u001B[38;5;124mf\u001B[39m\u001B[38;5;124m\"\u001B[39m\u001B[38;5;124mAverages, model selection method: \u001B[39m\u001B[38;5;132;01m{\u001B[39;00mselection_method\u001B[38;5;241m.\u001B[39mname\u001B[38;5;132;01m}\u001B[39;00m\u001B[38;5;124m\"\u001B[39m\n\u001B[1;32m    116\u001B[0m print_table(table, header_text, alg_names, col_labels, colwidth\u001B[38;5;241m=\u001B[39m\u001B[38;5;241m25\u001B[39m,\n\u001B[1;32m    117\u001B[0m     latex\u001B[38;5;241m=\u001B[39mlatex)\n\u001B[0;32m--> 118\u001B[0m \u001B[38;5;28mprint\u001B[39m(\u001B[43mgrouped_records\u001B[49m\u001B[38;5;241;43m.\u001B[39;49m\u001B[43mshape\u001B[49m)\n",
      "\u001B[0;31mAttributeError\u001B[0m: 'Q' object has no attribute 'shape'"
     ]
    }
   ],
   "source": [
    "records = reporting.load_records(input_dir)\n",
    "selection_methods = [\n",
    "    model_selection.IIDAccuracySelectionMethod,\n",
    "    model_selection.OracleSelectionMethod\n",
    "]\n",
    "\n",
    "for selection_method in selection_methods:\n",
    "    print_results_tables(records, selection_method, latex)\n"
   ],
   "metadata": {
    "collapsed": false,
    "ExecuteTime": {
     "end_time": "2024-04-30T04:17:59.880974Z",
     "start_time": "2024-04-30T04:17:59.627474Z"
    }
   },
   "id": "83057a822b38d293",
   "execution_count": 39
  },
  {
   "cell_type": "code",
   "outputs": [
    {
     "data": {
      "text/plain": "[{'args': {'algorithm': 'HessianAlignment',\n   'checkpoint_freq': None,\n   'data_dir': './domainbed/data/',\n   'dataset': 'PACS',\n   'device': 0,\n   'holdout_fraction': 0.2,\n   'hparams': '{\"model_type\":\"ResNet\"}',\n   'hparams_seed': 3,\n   'output_dir': './domainbed/results_resnet/1d5173d1b760a99669e81f677ef5721b',\n   'save_model_every_checkpoint': False,\n   'seed': 735808364,\n   'skip_model_save': False,\n   'steps': None,\n   'task': 'domain_generalization',\n   'test_envs': [0],\n   'trial_seed': 0,\n   'uda_holdout_fraction': 0},\n  'env0_in_acc': 0.225137278828554,\n  'env0_out_acc': 0.20293398533007334,\n  'env1_in_acc': 0.17857142857142858,\n  'env1_out_acc': 0.17307692307692307,\n  'env2_in_acc': 0.30988023952095806,\n  'env2_out_acc': 0.2874251497005988,\n  'env3_in_acc': 0.044529262086514,\n  'env3_out_acc': 0.04331210191082802,\n  'epoch': 0.0,\n  'hparams': {'batch_size': 34,\n   'class_balanced': False,\n   'data_augmentation': True,\n   'grad_alpha': 5.440033278684992e-06,\n   'hess_beta': 0.0001600009189562713,\n   'lr': 6.801736841150391e-05,\n   'model_type': 'ResNet',\n   'nonlinear_classifier': False,\n   'resnet18': False,\n   'resnet_dropout': 0.0,\n   'weight_decay': 1.046949588651311e-05},\n  'loss': 1.405474066734314,\n  'mem_gb': 16.56487512588501,\n  'step': 0,\n  'step_time': 2.8595528602600098},\n {'args': {'algorithm': 'HessianAlignment',\n   'checkpoint_freq': None,\n   'data_dir': './domainbed/data/',\n   'dataset': 'PACS',\n   'device': 0,\n   'holdout_fraction': 0.2,\n   'hparams': '{\"model_type\":\"ResNet\"}',\n   'hparams_seed': 3,\n   'output_dir': './domainbed/results_resnet/1d5173d1b760a99669e81f677ef5721b',\n   'save_model_every_checkpoint': False,\n   'seed': 735808364,\n   'skip_model_save': False,\n   'steps': None,\n   'task': 'domain_generalization',\n   'test_envs': [0],\n   'trial_seed': 0,\n   'uda_holdout_fraction': 0},\n  'env0_in_acc': 0.7010372178157414,\n  'env0_out_acc': 0.726161369193154,\n  'env1_in_acc': 0.9557569296375267,\n  'env1_out_acc': 0.9038461538461539,\n  'env2_in_acc': 0.9865269461077845,\n  'env2_out_acc': 0.9431137724550899,\n  'env3_in_acc': 0.6704834605597965,\n  'env3_out_acc': 0.6662420382165605,\n  'epoch': 7.634730538922155,\n  'hparams': {'batch_size': 34,\n   'class_balanced': False,\n   'data_augmentation': True,\n   'grad_alpha': 5.440033278684992e-06,\n   'hess_beta': 0.0001600009189562713,\n   'lr': 6.801736841150391e-05,\n   'model_type': 'ResNet',\n   'nonlinear_classifier': False,\n   'resnet18': False,\n   'resnet_dropout': 0.0,\n   'weight_decay': 1.046949588651311e-05},\n  'loss': 0.13420820547267795,\n  'mem_gb': 16.830949783325195,\n  'step': 300,\n  'step_time': 1.0526512638727823}]"
     },
     "execution_count": 26,
     "metadata": {},
     "output_type": "execute_result"
    }
   ],
   "source": [
    "records[0: 2]"
   ],
   "metadata": {
    "collapsed": false,
    "ExecuteTime": {
     "end_time": "2024-04-30T04:14:18.697466Z",
     "start_time": "2024-04-30T04:14:18.695005Z"
    }
   },
   "id": "d3672053013b9602",
   "execution_count": 26
  },
  {
   "cell_type": "code",
   "outputs": [
    {
     "data": {
      "text/plain": "'./results_resnet'"
     },
     "execution_count": 12,
     "metadata": {},
     "output_type": "execute_result"
    }
   ],
   "source": [
    "input_dir"
   ],
   "metadata": {
    "collapsed": false,
    "ExecuteTime": {
     "end_time": "2024-04-30T03:47:48.064360Z",
     "start_time": "2024-04-30T03:47:48.062240Z"
    }
   },
   "id": "4ebe3bacab75810c",
   "execution_count": 12
  },
  {
   "cell_type": "code",
   "outputs": [],
   "source": [],
   "metadata": {
    "collapsed": false
   },
   "id": "4d0b546cf52a88cb"
  }
 ],
 "metadata": {
  "kernelspec": {
   "display_name": "Python 3",
   "language": "python",
   "name": "python3"
  },
  "language_info": {
   "codemirror_mode": {
    "name": "ipython",
    "version": 2
   },
   "file_extension": ".py",
   "mimetype": "text/x-python",
   "name": "python",
   "nbconvert_exporter": "python",
   "pygments_lexer": "ipython2",
   "version": "2.7.6"
  }
 },
 "nbformat": 4,
 "nbformat_minor": 5
}

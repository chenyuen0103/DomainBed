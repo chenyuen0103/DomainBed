{
 "cells": [
  {
   "cell_type": "code",
   "execution_count": 53,
   "id": "initial_id",
   "metadata": {
    "collapsed": true,
    "ExecuteTime": {
     "end_time": "2024-05-02T04:08:39.264585Z",
     "start_time": "2024-05-02T04:08:39.257754Z"
    }
   },
   "outputs": [],
   "source": [
    "import collections\n",
    "import functools\n",
    "import glob\n",
    "import pickle\n",
    "import itertools\n",
    "import json\n",
    "import os\n",
    "import random\n",
    "import sys\n",
    "import numpy as np\n",
    "import tqdm\n",
    "import pandas as pd\n",
    "import seaborn as sns\n",
    "import matplotlib.pyplot as plt\n",
    "\n",
    "# If domainbed is a custom module, you might need to adjust its imports or setup\n",
    "from domainbed import datasets\n",
    "from domainbed import algorithms\n",
    "from domainbed.lib import misc, reporting\n",
    "from domainbed import model_selection\n",
    "from domainbed.lib.query import Q\n",
    "import warnings\n"
   ]
  },
  {
   "cell_type": "code",
   "outputs": [
    {
     "name": "stdout",
     "output_type": "stream",
     "text": [
      "Total subdirectories: 50\n",
      "Empty subdirectories: 0\n"
     ]
    }
   ],
   "source": [
    "def count_subdirectories_and_empty_ones(directory):\n",
    "    \n",
    "    num_subdirectories = 0\n",
    "    num_empty_subdirectories = 0\n",
    "\n",
    "    # Walk through all directories in the given directory\n",
    "    for root, dirs, files in os.walk(directory):\n",
    "        # Iterate over each directory in the current root\n",
    "        for d in dirs:\n",
    "            num_subdirectories += 1\n",
    "            subdirectory_path = os.path.join(root, d)\n",
    "            # Check if the directory is empty\n",
    "            if not os.listdir(subdirectory_path):\n",
    "                num_empty_subdirectories += 1\n",
    "\n",
    "    return num_subdirectories, num_empty_subdirectories\n",
    "\n",
    "\n",
    "# Specify the directory you want to inspect\n",
    "directory_path = 'results_resnet_new'\n",
    "\n",
    "# Get the count of subdirectories and empty subdirectories\n",
    "subdirectories, empty_subdirectories = count_subdirectories_and_empty_ones(directory_path)\n",
    "print(f\"Total subdirectories: {subdirectories}\")\n",
    "print(f\"Empty subdirectories: {empty_subdirectories}\")"
   ],
   "metadata": {
    "collapsed": false,
    "ExecuteTime": {
     "end_time": "2024-05-02T12:45:59.475788Z",
     "start_time": "2024-05-02T12:45:59.467693Z"
    }
   },
   "id": "8ab783a36ad7a66e",
   "execution_count": 59
  },
  {
   "cell_type": "code",
   "outputs": [],
   "source": [
    "def format_mean(data, latex):\n",
    "    \"\"\"Given a list of datapoints, return a string describing their mean and\n",
    "    standard error\"\"\"\n",
    "    if len(data) == 0:\n",
    "        return None, None, \"X\"\n",
    "    mean = 100 * np.mean(list(data))\n",
    "    err = 100 * np.std(list(data) / np.sqrt(len(data)))\n",
    "    if latex:\n",
    "        return mean, err, \"{:.1f} $\\\\pm$ {:.1f}\".format(mean, err)\n",
    "    else:\n",
    "        return mean, err, \"{:.1f} +/- {:.1f}\".format(mean, err)\n",
    "\n",
    "def print_table(table, header_text, row_labels, col_labels, colwidth=10,\n",
    "    latex=True):\n",
    "    \"\"\"Pretty-print a 2D array of data, optionally with row/col labels\"\"\"\n",
    "    print(\"\")\n",
    "\n",
    "    if latex:\n",
    "        num_cols = len(table[0])\n",
    "        print(\"\\\\begin{center}\")\n",
    "        print(\"\\\\adjustbox{max width=\\\\textwidth}{%\")\n",
    "        print(\"\\\\begin{tabular}{l\" + \"c\" * num_cols + \"}\")\n",
    "        print(\"\\\\toprule\")\n",
    "    else:\n",
    "        print(\"--------\", header_text)\n",
    "\n",
    "    for row, label in zip(table, row_labels):\n",
    "        row.insert(0, label)\n",
    "\n",
    "    if latex:\n",
    "        col_labels = [\"\\\\textbf{\" + str(col_label).replace(\"%\", \"\\\\%\") + \"}\"\n",
    "            for col_label in col_labels]\n",
    "    table.insert(0, col_labels)\n",
    "\n",
    "    for r, row in enumerate(table):\n",
    "        misc.print_row(row, colwidth=colwidth, latex=latex)\n",
    "        if latex and r == 0:\n",
    "            print(\"\\\\midrule\")\n",
    "    if latex:\n",
    "        print(\"\\\\bottomrule\")\n",
    "        print(\"\\\\end{tabular}}\")\n",
    "        print(\"\\\\end{center}\")\n",
    "\n",
    "def print_results_tables(records, selection_method, latex):\n",
    "    \"\"\"Given all records, print a results table for each dataset.\"\"\"\n",
    "    grouped_records = reporting.get_grouped_records(records).map(lambda group:\n",
    "        { **group, \"sweep_acc\": selection_method.sweep_acc(group[\"records\"]) }\n",
    "    ).filter(lambda g: g[\"sweep_acc\"] is not None)\n",
    "\n",
    "    # read algorithm names and sort (predefined order)\n",
    "    alg_names = Q(records).select(\"args.algorithm\").unique()\n",
    "    alg_names = ([n for n in algorithms.ALGORITHMS if n in alg_names] +\n",
    "        [n for n in alg_names if n not in algorithms.ALGORITHMS])\n",
    "\n",
    "    # read dataset names and sort (lexicographic order)\n",
    "    dataset_names = Q(records).select(\"args.dataset\").unique().sorted()\n",
    "    dataset_names = [d for d in datasets.DATASETS if d in dataset_names]\n",
    "\n",
    "    for dataset in dataset_names:\n",
    "        if latex:\n",
    "            print()\n",
    "            print(\"\\\\subsubsection{{{}}}\".format(dataset))\n",
    "        test_envs = range(datasets.num_environments(dataset))\n",
    "        # breakpoint()\n",
    "        table = [[None for _ in [*test_envs, \"Avg\"]] for _ in alg_names]\n",
    "        for i, algorithm in enumerate(alg_names):\n",
    "            means = []\n",
    "            for j, test_env in enumerate(test_envs):\n",
    "                trial_accs = (grouped_records\n",
    "                    .filter_equals(\n",
    "                        \"dataset, algorithm, test_env\",\n",
    "                        (dataset, algorithm, test_env)\n",
    "                    ).select(\"sweep_acc\"))\n",
    "                mean, err, table[i][j] = format_mean(trial_accs, latex)\n",
    "                means.append(mean)\n",
    "            if None in means:\n",
    "                table[i][-1] = \"X\"\n",
    "            else:\n",
    "                table[i][-1] = \"{:.1f}\".format(sum(means) / len(means))\n",
    "\n",
    "        col_labels = [\n",
    "            \"Algorithm\",\n",
    "            *datasets.get_dataset_class(dataset).ENVIRONMENTS,\n",
    "            \"Avg\"\n",
    "        ]\n",
    "        header_text = (f\"Dataset: {dataset}, \"\n",
    "            f\"model selection method: {selection_method.name}\")\n",
    "        print_table(table, header_text, alg_names, list(col_labels),\n",
    "            colwidth=20, latex=latex)\n",
    "\n",
    "    # Print an \"averages\" table\n",
    "    if latex:\n",
    "        print()\n",
    "        print(\"\\\\subsubsection{Averages}\")\n",
    "\n",
    "    table = [[None for _ in [*dataset_names, \"Avg\"]] for _ in alg_names]\n",
    "    for i, algorithm in enumerate(alg_names):\n",
    "        means = []\n",
    "        for j, dataset in enumerate(dataset_names):\n",
    "            trial_averages = (grouped_records\n",
    "                .filter_equals(\"algorithm, dataset\", (algorithm, dataset))\n",
    "                .group(\"trial_seed\")\n",
    "                .map(lambda trial_seed, group:\n",
    "                    group.select(\"sweep_acc\").mean()\n",
    "                )\n",
    "            )\n",
    "            mean, err, table[i][j] = format_mean(trial_averages, latex)\n",
    "            means.append(mean)\n",
    "        if None in means:\n",
    "            table[i][-1] = \"X\"\n",
    "        else:\n",
    "            table[i][-1] = \"{:.1f}\".format(sum(means) / len(means))\n",
    "\n",
    "    col_labels = [\"Algorithm\", *dataset_names, \"Avg\"]\n",
    "    header_text = f\"Averages, model selection method: {selection_method.name}\"\n",
    "    print_table(table, header_text, alg_names, col_labels, colwidth=25,\n",
    "        latex=latex)"
   ],
   "metadata": {
    "collapsed": false,
    "ExecuteTime": {
     "end_time": "2024-05-02T04:08:39.673474Z",
     "start_time": "2024-05-02T04:08:39.669318Z"
    }
   },
   "id": "73ca9d266f0c31a8",
   "execution_count": 55
  },
  {
   "cell_type": "code",
   "outputs": [],
   "source": [
    "input_dir = \"./results_resnet_new\"\n",
    "latex = False\n",
    "results_file = \"results.tex\" if latex else \"results.txt\""
   ],
   "metadata": {
    "collapsed": false,
    "ExecuteTime": {
     "end_time": "2024-05-02T04:08:39.848604Z",
     "start_time": "2024-05-02T04:08:39.845496Z"
    }
   },
   "id": "1ca2b30d73774666",
   "execution_count": 56
  },
  {
   "cell_type": "code",
   "outputs": [
    {
     "name": "stderr",
     "output_type": "stream",
     "text": [
      "                                                                                "
     ]
    },
    {
     "name": "stdout",
     "output_type": "stream",
     "text": [
      "\n",
      "-------- Dataset: RotatedMNIST, model selection method: training-domain validation set\n",
      "Algorithm             0                     15                    30                    45                    60                    75                    Avg                  \n",
      "HessianAlignment      94.9 +/- 0.0          98.1 +/- 0.0          98.7 +/- 0.0          98.6 +/- 0.0          98.8 +/- 0.0          96.1 +/- 0.0          97.5                 \n",
      "\n",
      "-------- Dataset: VLCS, model selection method: training-domain validation set\n",
      "Algorithm             C                     L                     S                     V                     Avg                  \n",
      "HessianAlignment      98.4 +/- 0.0          65.3 +/- 0.0          71.6 +/- 0.0          72.5 +/- 0.0          77.0                 \n",
      "\n",
      "-------- Averages, model selection method: training-domain validation set\n",
      "Algorithm                  RotatedMNIST               VLCS                       Avg                       \n",
      "HessianAlignment           97.5 +/- 0.0               77.0 +/- 0.0               87.3                      \n",
      "\n",
      "-------- Dataset: RotatedMNIST, model selection method: test-domain validation set (oracle)\n",
      "Algorithm             0                     15                    30                    45                    60                    75                    Avg                  \n",
      "HessianAlignment      94.8 +/- 0.0          97.4 +/- 0.0          98.5 +/- 0.0          98.5 +/- 0.0          98.8 +/- 0.0          94.9 +/- 0.0          97.1                 \n",
      "\n",
      "-------- Dataset: VLCS, model selection method: test-domain validation set (oracle)\n",
      "Algorithm             C                     L                     S                     V                     Avg                  \n",
      "HessianAlignment      96.3 +/- 0.0          65.3 +/- 0.0          69.3 +/- 0.0          73.7 +/- 0.0          76.2                 \n",
      "\n",
      "-------- Averages, model selection method: test-domain validation set (oracle)\n",
      "Algorithm                  RotatedMNIST               VLCS                       Avg                       \n",
      "HessianAlignment           97.1 +/- 0.0               76.2 +/- 0.0               86.7                      \n"
     ]
    },
    {
     "name": "stderr",
     "output_type": "stream",
     "text": [
      "\r"
     ]
    }
   ],
   "source": [
    "records = reporting.load_records(input_dir)\n",
    "selection_methods = [\n",
    "    model_selection.IIDAccuracySelectionMethod,\n",
    "    model_selection.OracleSelectionMethod\n",
    "]\n",
    "\n",
    "for selection_method in selection_methods:\n",
    "    print_results_tables(records, selection_method, latex)\n"
   ],
   "metadata": {
    "collapsed": false,
    "ExecuteTime": {
     "end_time": "2024-05-02T04:08:40.555871Z",
     "start_time": "2024-05-02T04:08:40.490599Z"
    }
   },
   "id": "83057a822b38d293",
   "execution_count": 57
  },
  {
   "cell_type": "code",
   "outputs": [
    {
     "data": {
      "text/plain": "[{'args': {'algorithm': 'HessianAlignment',\n   'checkpoint_freq': None,\n   'data_dir': './domainbed/data/',\n   'dataset': 'VLCS',\n   'device': 0,\n   'holdout_fraction': 0.2,\n   'hparams': '{\"model_type\":\"ResNet\"}',\n   'hparams_seed': 1,\n   'output_dir': './domainbed/results_resnet_new/be7d8e28947326fedd849898854fc595',\n   'save_model_every_checkpoint': False,\n   'seed': 728992854,\n   'skip_model_save': False,\n   'steps': None,\n   'task': 'domain_generalization',\n   'test_envs': [2],\n   'trial_seed': 0,\n   'uda_holdout_fraction': 0},\n  'env0_in_acc': 0.6554770318021201,\n  'env0_out_acc': 0.6784452296819788,\n  'env1_in_acc': 0.49317647058823527,\n  'env1_out_acc': 0.4858757062146893,\n  'env2_in_acc': 0.49124143183549124,\n  'env2_out_acc': 0.4817073170731707,\n  'env3_in_acc': 0.4683450573861533,\n  'env3_out_acc': 0.4725925925925926,\n  'epoch': 0.0,\n  'erm_loss': 1.5806922912597656,\n  'grad_pen': 0.0,\n  'hess_pen': 0.0,\n  'hparams': {'batch_size': 39,\n   'class_balanced': False,\n   'data_augmentation': True,\n   'grad_alpha': 44.41840541006661,\n   'hess_beta': 18.552574037335336,\n   'lr': 2.7028930742148706e-05,\n   'model_type': 'ResNet',\n   'nonlinear_classifier': False,\n   'penalty_anneal_iters': 4072,\n   'resnet18': False,\n   'resnet_dropout': 0.5,\n   'weight_decay': 0.00044832883881609976},\n  'loss': 1.5806922912597656,\n  'mem_gb': 18.8555326461792,\n  'step': 0,\n  'step_time': 5.322256565093994},\n {'args': {'algorithm': 'HessianAlignment',\n   'checkpoint_freq': None,\n   'data_dir': './domainbed/data/',\n   'dataset': 'VLCS',\n   'device': 0,\n   'holdout_fraction': 0.2,\n   'hparams': '{\"model_type\":\"ResNet\"}',\n   'hparams_seed': 1,\n   'output_dir': './domainbed/results_resnet_new/be7d8e28947326fedd849898854fc595',\n   'save_model_every_checkpoint': False,\n   'seed': 728992854,\n   'skip_model_save': False,\n   'steps': None,\n   'task': 'domain_generalization',\n   'test_envs': [2],\n   'trial_seed': 0,\n   'uda_holdout_fraction': 0},\n  'env0_in_acc': 0.9991166077738516,\n  'env0_out_acc': 1.0,\n  'env1_in_acc': 0.8258823529411765,\n  'env1_out_acc': 0.7702448210922788,\n  'env2_in_acc': 0.761995430312262,\n  'env2_out_acc': 0.7286585365853658,\n  'env3_in_acc': 0.914476119955572,\n  'env3_out_acc': 0.845925925925926,\n  'epoch': 10.335689045936396,\n  'erm_loss': 0.38063264509042105,\n  'grad_pen': 0.0,\n  'hess_pen': 0.0,\n  'hparams': {'batch_size': 39,\n   'class_balanced': False,\n   'data_augmentation': True,\n   'grad_alpha': 44.41840541006661,\n   'hess_beta': 18.552574037335336,\n   'lr': 2.7028930742148706e-05,\n   'model_type': 'ResNet',\n   'nonlinear_classifier': False,\n   'penalty_anneal_iters': 4072,\n   'resnet18': False,\n   'resnet_dropout': 0.5,\n   'weight_decay': 0.00044832883881609976},\n  'loss': 0.38063264509042105,\n  'mem_gb': 19.127126216888428,\n  'step': 300,\n  'step_time': 0.8199869394302368}]"
     },
     "execution_count": 58,
     "metadata": {},
     "output_type": "execute_result"
    }
   ],
   "source": [
    "records[0: 2]"
   ],
   "metadata": {
    "collapsed": false,
    "ExecuteTime": {
     "end_time": "2024-05-02T04:08:48.343170Z",
     "start_time": "2024-05-02T04:08:48.339507Z"
    }
   },
   "id": "d3672053013b9602",
   "execution_count": 58
  },
  {
   "cell_type": "code",
   "outputs": [
    {
     "data": {
      "text/plain": "'./results_resnet'"
     },
     "execution_count": 12,
     "metadata": {},
     "output_type": "execute_result"
    }
   ],
   "source": [
    "input_dir"
   ],
   "metadata": {
    "collapsed": false,
    "ExecuteTime": {
     "end_time": "2024-04-30T03:47:48.064360Z",
     "start_time": "2024-04-30T03:47:48.062240Z"
    }
   },
   "id": "4ebe3bacab75810c",
   "execution_count": 12
  },
  {
   "cell_type": "code",
   "outputs": [],
   "source": [],
   "metadata": {
    "collapsed": false
   },
   "id": "4d0b546cf52a88cb"
  }
 ],
 "metadata": {
  "kernelspec": {
   "display_name": "Python 3",
   "language": "python",
   "name": "python3"
  },
  "language_info": {
   "codemirror_mode": {
    "name": "ipython",
    "version": 2
   },
   "file_extension": ".py",
   "mimetype": "text/x-python",
   "name": "python",
   "nbconvert_exporter": "python",
   "pygments_lexer": "ipython2",
   "version": "2.7.6"
  }
 },
 "nbformat": 4,
 "nbformat_minor": 5
}
